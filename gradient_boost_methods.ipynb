{
  "nbformat": 4,
  "nbformat_minor": 0,
  "metadata": {
    "colab": {
      "name": "gradient boost methods.ipynb",
      "provenance": [],
      "authorship_tag": "ABX9TyOa+OCQRgz8Fg/1HeS9RRK3",
      "include_colab_link": true
    },
    "kernelspec": {
      "name": "python3",
      "display_name": "Python 3"
    },
    "language_info": {
      "name": "python"
    }
  },
  "cells": [
    {
      "cell_type": "markdown",
      "metadata": {
        "id": "view-in-github",
        "colab_type": "text"
      },
      "source": [
        "<a href=\"https://colab.research.google.com/github/mukkatharun/GradientBoostMethods/blob/main/gradient_boost_methods.ipynb\" target=\"_parent\"><img src=\"https://colab.research.google.com/assets/colab-badge.svg\" alt=\"Open In Colab\"/></a>"
      ]
    },
    {
      "cell_type": "code",
      "metadata": {
        "colab": {
          "base_uri": "https://localhost:8080/"
        },
        "id": "e1M9PZvEIS7F",
        "outputId": "f36ec64f-efd7-451b-ec90-f4d35246d965"
      },
      "source": [
        "!pip install catboost\n",
        "!pip install lightgbm"
      ],
      "execution_count": 1,
      "outputs": [
        {
          "output_type": "stream",
          "name": "stdout",
          "text": [
            "Collecting catboost\n",
            "  Downloading catboost-1.0.3-cp37-none-manylinux1_x86_64.whl (76.3 MB)\n",
            "\u001b[K     |████████████████████████████████| 76.3 MB 1.3 MB/s \n",
            "\u001b[?25hRequirement already satisfied: graphviz in /usr/local/lib/python3.7/dist-packages (from catboost) (0.10.1)\n",
            "Requirement already satisfied: six in /usr/local/lib/python3.7/dist-packages (from catboost) (1.15.0)\n",
            "Requirement already satisfied: numpy>=1.16.0 in /usr/local/lib/python3.7/dist-packages (from catboost) (1.19.5)\n",
            "Requirement already satisfied: scipy in /usr/local/lib/python3.7/dist-packages (from catboost) (1.4.1)\n",
            "Requirement already satisfied: plotly in /usr/local/lib/python3.7/dist-packages (from catboost) (4.4.1)\n",
            "Requirement already satisfied: matplotlib in /usr/local/lib/python3.7/dist-packages (from catboost) (3.2.2)\n",
            "Requirement already satisfied: pandas>=0.24.0 in /usr/local/lib/python3.7/dist-packages (from catboost) (1.1.5)\n",
            "Requirement already satisfied: python-dateutil>=2.7.3 in /usr/local/lib/python3.7/dist-packages (from pandas>=0.24.0->catboost) (2.8.2)\n",
            "Requirement already satisfied: pytz>=2017.2 in /usr/local/lib/python3.7/dist-packages (from pandas>=0.24.0->catboost) (2018.9)\n",
            "Requirement already satisfied: kiwisolver>=1.0.1 in /usr/local/lib/python3.7/dist-packages (from matplotlib->catboost) (1.3.2)\n",
            "Requirement already satisfied: pyparsing!=2.0.4,!=2.1.2,!=2.1.6,>=2.0.1 in /usr/local/lib/python3.7/dist-packages (from matplotlib->catboost) (3.0.6)\n",
            "Requirement already satisfied: cycler>=0.10 in /usr/local/lib/python3.7/dist-packages (from matplotlib->catboost) (0.11.0)\n",
            "Requirement already satisfied: retrying>=1.3.3 in /usr/local/lib/python3.7/dist-packages (from plotly->catboost) (1.3.3)\n",
            "Installing collected packages: catboost\n",
            "Successfully installed catboost-1.0.3\n",
            "Requirement already satisfied: lightgbm in /usr/local/lib/python3.7/dist-packages (2.2.3)\n",
            "Requirement already satisfied: scipy in /usr/local/lib/python3.7/dist-packages (from lightgbm) (1.4.1)\n",
            "Requirement already satisfied: scikit-learn in /usr/local/lib/python3.7/dist-packages (from lightgbm) (1.0.1)\n",
            "Requirement already satisfied: numpy in /usr/local/lib/python3.7/dist-packages (from lightgbm) (1.19.5)\n",
            "Requirement already satisfied: threadpoolctl>=2.0.0 in /usr/local/lib/python3.7/dist-packages (from scikit-learn->lightgbm) (3.0.0)\n",
            "Requirement already satisfied: joblib>=0.11 in /usr/local/lib/python3.7/dist-packages (from scikit-learn->lightgbm) (1.1.0)\n"
          ]
        }
      ]
    },
    {
      "cell_type": "code",
      "metadata": {
        "id": "ILhHzU153q_i"
      },
      "source": [
        "import numpy as np\n",
        "import pandas as pd\n",
        "import seaborn as sns\n",
        "import matplotlib.pyplot as plt\n",
        "from xgboost import XGBClassifier\n",
        "from sklearn.model_selection import cross_val_score\n",
        "from sklearn.model_selection import RepeatedStratifiedKFold\n",
        "from sklearn.model_selection import train_test_split\n",
        "from numpy import mean\n",
        "from numpy import std\n",
        "from catboost import CatBoostClassifier\n",
        "from lightgbm import LGBMClassifier\n",
        "from sklearn.ensemble import AdaBoostClassifier\n",
        "from lightgbm import LGBMRegressor\n",
        "from xgboost import XGBRegressor\n",
        "from catboost import CatBoostRegressor\n",
        "from sklearn.model_selection import RepeatedKFold\n",
        "from sklearn import tree\n",
        "import lightgbm as lgb"
      ],
      "execution_count": 31,
      "outputs": []
    },
    {
      "cell_type": "code",
      "metadata": {
        "id": "Ghu9BsIc3y9C",
        "colab": {
          "base_uri": "https://localhost:8080/",
          "height": 241
        },
        "outputId": "784755e3-8397-44a6-d75c-4212e7099ca7"
      },
      "source": [
        "data = pd.read_csv('b_cancer.csv')\n",
        "data.head()"
      ],
      "execution_count": 3,
      "outputs": [
        {
          "output_type": "execute_result",
          "data": {
            "text/html": [
              "<div>\n",
              "<style scoped>\n",
              "    .dataframe tbody tr th:only-of-type {\n",
              "        vertical-align: middle;\n",
              "    }\n",
              "\n",
              "    .dataframe tbody tr th {\n",
              "        vertical-align: top;\n",
              "    }\n",
              "\n",
              "    .dataframe thead th {\n",
              "        text-align: right;\n",
              "    }\n",
              "</style>\n",
              "<table border=\"1\" class=\"dataframe\">\n",
              "  <thead>\n",
              "    <tr style=\"text-align: right;\">\n",
              "      <th></th>\n",
              "      <th>id</th>\n",
              "      <th>diagnosis</th>\n",
              "      <th>radius_mean</th>\n",
              "      <th>texture_mean</th>\n",
              "      <th>perimeter_mean</th>\n",
              "      <th>area_mean</th>\n",
              "      <th>smoothness_mean</th>\n",
              "      <th>compactness_mean</th>\n",
              "      <th>concavity_mean</th>\n",
              "      <th>concave points_mean</th>\n",
              "      <th>symmetry_mean</th>\n",
              "      <th>fractal_dimension_mean</th>\n",
              "      <th>radius_se</th>\n",
              "      <th>texture_se</th>\n",
              "      <th>perimeter_se</th>\n",
              "      <th>area_se</th>\n",
              "      <th>smoothness_se</th>\n",
              "      <th>compactness_se</th>\n",
              "      <th>concavity_se</th>\n",
              "      <th>concave points_se</th>\n",
              "      <th>symmetry_se</th>\n",
              "      <th>fractal_dimension_se</th>\n",
              "      <th>radius_worst</th>\n",
              "      <th>texture_worst</th>\n",
              "      <th>perimeter_worst</th>\n",
              "      <th>area_worst</th>\n",
              "      <th>smoothness_worst</th>\n",
              "      <th>compactness_worst</th>\n",
              "      <th>concavity_worst</th>\n",
              "      <th>concave points_worst</th>\n",
              "      <th>symmetry_worst</th>\n",
              "      <th>fractal_dimension_worst</th>\n",
              "      <th>Unnamed: 32</th>\n",
              "    </tr>\n",
              "  </thead>\n",
              "  <tbody>\n",
              "    <tr>\n",
              "      <th>0</th>\n",
              "      <td>842302</td>\n",
              "      <td>M</td>\n",
              "      <td>17.99</td>\n",
              "      <td>10.38</td>\n",
              "      <td>122.80</td>\n",
              "      <td>1001.0</td>\n",
              "      <td>0.11840</td>\n",
              "      <td>0.27760</td>\n",
              "      <td>0.3001</td>\n",
              "      <td>0.14710</td>\n",
              "      <td>0.2419</td>\n",
              "      <td>0.07871</td>\n",
              "      <td>1.0950</td>\n",
              "      <td>0.9053</td>\n",
              "      <td>8.589</td>\n",
              "      <td>153.40</td>\n",
              "      <td>0.006399</td>\n",
              "      <td>0.04904</td>\n",
              "      <td>0.05373</td>\n",
              "      <td>0.01587</td>\n",
              "      <td>0.03003</td>\n",
              "      <td>0.006193</td>\n",
              "      <td>25.38</td>\n",
              "      <td>17.33</td>\n",
              "      <td>184.60</td>\n",
              "      <td>2019.0</td>\n",
              "      <td>0.1622</td>\n",
              "      <td>0.6656</td>\n",
              "      <td>0.7119</td>\n",
              "      <td>0.2654</td>\n",
              "      <td>0.4601</td>\n",
              "      <td>0.11890</td>\n",
              "      <td>NaN</td>\n",
              "    </tr>\n",
              "    <tr>\n",
              "      <th>1</th>\n",
              "      <td>842517</td>\n",
              "      <td>M</td>\n",
              "      <td>20.57</td>\n",
              "      <td>17.77</td>\n",
              "      <td>132.90</td>\n",
              "      <td>1326.0</td>\n",
              "      <td>0.08474</td>\n",
              "      <td>0.07864</td>\n",
              "      <td>0.0869</td>\n",
              "      <td>0.07017</td>\n",
              "      <td>0.1812</td>\n",
              "      <td>0.05667</td>\n",
              "      <td>0.5435</td>\n",
              "      <td>0.7339</td>\n",
              "      <td>3.398</td>\n",
              "      <td>74.08</td>\n",
              "      <td>0.005225</td>\n",
              "      <td>0.01308</td>\n",
              "      <td>0.01860</td>\n",
              "      <td>0.01340</td>\n",
              "      <td>0.01389</td>\n",
              "      <td>0.003532</td>\n",
              "      <td>24.99</td>\n",
              "      <td>23.41</td>\n",
              "      <td>158.80</td>\n",
              "      <td>1956.0</td>\n",
              "      <td>0.1238</td>\n",
              "      <td>0.1866</td>\n",
              "      <td>0.2416</td>\n",
              "      <td>0.1860</td>\n",
              "      <td>0.2750</td>\n",
              "      <td>0.08902</td>\n",
              "      <td>NaN</td>\n",
              "    </tr>\n",
              "    <tr>\n",
              "      <th>2</th>\n",
              "      <td>84300903</td>\n",
              "      <td>M</td>\n",
              "      <td>19.69</td>\n",
              "      <td>21.25</td>\n",
              "      <td>130.00</td>\n",
              "      <td>1203.0</td>\n",
              "      <td>0.10960</td>\n",
              "      <td>0.15990</td>\n",
              "      <td>0.1974</td>\n",
              "      <td>0.12790</td>\n",
              "      <td>0.2069</td>\n",
              "      <td>0.05999</td>\n",
              "      <td>0.7456</td>\n",
              "      <td>0.7869</td>\n",
              "      <td>4.585</td>\n",
              "      <td>94.03</td>\n",
              "      <td>0.006150</td>\n",
              "      <td>0.04006</td>\n",
              "      <td>0.03832</td>\n",
              "      <td>0.02058</td>\n",
              "      <td>0.02250</td>\n",
              "      <td>0.004571</td>\n",
              "      <td>23.57</td>\n",
              "      <td>25.53</td>\n",
              "      <td>152.50</td>\n",
              "      <td>1709.0</td>\n",
              "      <td>0.1444</td>\n",
              "      <td>0.4245</td>\n",
              "      <td>0.4504</td>\n",
              "      <td>0.2430</td>\n",
              "      <td>0.3613</td>\n",
              "      <td>0.08758</td>\n",
              "      <td>NaN</td>\n",
              "    </tr>\n",
              "    <tr>\n",
              "      <th>3</th>\n",
              "      <td>84348301</td>\n",
              "      <td>M</td>\n",
              "      <td>11.42</td>\n",
              "      <td>20.38</td>\n",
              "      <td>77.58</td>\n",
              "      <td>386.1</td>\n",
              "      <td>0.14250</td>\n",
              "      <td>0.28390</td>\n",
              "      <td>0.2414</td>\n",
              "      <td>0.10520</td>\n",
              "      <td>0.2597</td>\n",
              "      <td>0.09744</td>\n",
              "      <td>0.4956</td>\n",
              "      <td>1.1560</td>\n",
              "      <td>3.445</td>\n",
              "      <td>27.23</td>\n",
              "      <td>0.009110</td>\n",
              "      <td>0.07458</td>\n",
              "      <td>0.05661</td>\n",
              "      <td>0.01867</td>\n",
              "      <td>0.05963</td>\n",
              "      <td>0.009208</td>\n",
              "      <td>14.91</td>\n",
              "      <td>26.50</td>\n",
              "      <td>98.87</td>\n",
              "      <td>567.7</td>\n",
              "      <td>0.2098</td>\n",
              "      <td>0.8663</td>\n",
              "      <td>0.6869</td>\n",
              "      <td>0.2575</td>\n",
              "      <td>0.6638</td>\n",
              "      <td>0.17300</td>\n",
              "      <td>NaN</td>\n",
              "    </tr>\n",
              "    <tr>\n",
              "      <th>4</th>\n",
              "      <td>84358402</td>\n",
              "      <td>M</td>\n",
              "      <td>20.29</td>\n",
              "      <td>14.34</td>\n",
              "      <td>135.10</td>\n",
              "      <td>1297.0</td>\n",
              "      <td>0.10030</td>\n",
              "      <td>0.13280</td>\n",
              "      <td>0.1980</td>\n",
              "      <td>0.10430</td>\n",
              "      <td>0.1809</td>\n",
              "      <td>0.05883</td>\n",
              "      <td>0.7572</td>\n",
              "      <td>0.7813</td>\n",
              "      <td>5.438</td>\n",
              "      <td>94.44</td>\n",
              "      <td>0.011490</td>\n",
              "      <td>0.02461</td>\n",
              "      <td>0.05688</td>\n",
              "      <td>0.01885</td>\n",
              "      <td>0.01756</td>\n",
              "      <td>0.005115</td>\n",
              "      <td>22.54</td>\n",
              "      <td>16.67</td>\n",
              "      <td>152.20</td>\n",
              "      <td>1575.0</td>\n",
              "      <td>0.1374</td>\n",
              "      <td>0.2050</td>\n",
              "      <td>0.4000</td>\n",
              "      <td>0.1625</td>\n",
              "      <td>0.2364</td>\n",
              "      <td>0.07678</td>\n",
              "      <td>NaN</td>\n",
              "    </tr>\n",
              "  </tbody>\n",
              "</table>\n",
              "</div>"
            ],
            "text/plain": [
              "         id diagnosis  ...  fractal_dimension_worst  Unnamed: 32\n",
              "0    842302         M  ...                  0.11890          NaN\n",
              "1    842517         M  ...                  0.08902          NaN\n",
              "2  84300903         M  ...                  0.08758          NaN\n",
              "3  84348301         M  ...                  0.17300          NaN\n",
              "4  84358402         M  ...                  0.07678          NaN\n",
              "\n",
              "[5 rows x 33 columns]"
            ]
          },
          "metadata": {},
          "execution_count": 3
        }
      ]
    },
    {
      "cell_type": "code",
      "metadata": {
        "colab": {
          "base_uri": "https://localhost:8080/"
        },
        "id": "4xgT3t7w8gCh",
        "outputId": "191213d4-e08b-4164-844d-b3fa9bc90ea1"
      },
      "source": [
        "data.info()"
      ],
      "execution_count": 4,
      "outputs": [
        {
          "output_type": "stream",
          "name": "stdout",
          "text": [
            "<class 'pandas.core.frame.DataFrame'>\n",
            "RangeIndex: 569 entries, 0 to 568\n",
            "Data columns (total 33 columns):\n",
            " #   Column                   Non-Null Count  Dtype  \n",
            "---  ------                   --------------  -----  \n",
            " 0   id                       569 non-null    int64  \n",
            " 1   diagnosis                569 non-null    object \n",
            " 2   radius_mean              569 non-null    float64\n",
            " 3   texture_mean             569 non-null    float64\n",
            " 4   perimeter_mean           569 non-null    float64\n",
            " 5   area_mean                569 non-null    float64\n",
            " 6   smoothness_mean          569 non-null    float64\n",
            " 7   compactness_mean         569 non-null    float64\n",
            " 8   concavity_mean           569 non-null    float64\n",
            " 9   concave points_mean      569 non-null    float64\n",
            " 10  symmetry_mean            569 non-null    float64\n",
            " 11  fractal_dimension_mean   569 non-null    float64\n",
            " 12  radius_se                569 non-null    float64\n",
            " 13  texture_se               569 non-null    float64\n",
            " 14  perimeter_se             569 non-null    float64\n",
            " 15  area_se                  569 non-null    float64\n",
            " 16  smoothness_se            569 non-null    float64\n",
            " 17  compactness_se           569 non-null    float64\n",
            " 18  concavity_se             569 non-null    float64\n",
            " 19  concave points_se        569 non-null    float64\n",
            " 20  symmetry_se              569 non-null    float64\n",
            " 21  fractal_dimension_se     569 non-null    float64\n",
            " 22  radius_worst             569 non-null    float64\n",
            " 23  texture_worst            569 non-null    float64\n",
            " 24  perimeter_worst          569 non-null    float64\n",
            " 25  area_worst               569 non-null    float64\n",
            " 26  smoothness_worst         569 non-null    float64\n",
            " 27  compactness_worst        569 non-null    float64\n",
            " 28  concavity_worst          569 non-null    float64\n",
            " 29  concave points_worst     569 non-null    float64\n",
            " 30  symmetry_worst           569 non-null    float64\n",
            " 31  fractal_dimension_worst  569 non-null    float64\n",
            " 32  Unnamed: 32              0 non-null      float64\n",
            "dtypes: float64(31), int64(1), object(1)\n",
            "memory usage: 146.8+ KB\n"
          ]
        }
      ]
    },
    {
      "cell_type": "code",
      "metadata": {
        "colab": {
          "base_uri": "https://localhost:8080/"
        },
        "id": "BklE_MpE8RU8",
        "outputId": "54142026-2450-40fb-ef09-f1b1ba552594"
      },
      "source": [
        "data['diagnosis'].unique()"
      ],
      "execution_count": 5,
      "outputs": [
        {
          "output_type": "execute_result",
          "data": {
            "text/plain": [
              "array(['M', 'B'], dtype=object)"
            ]
          },
          "metadata": {},
          "execution_count": 5
        }
      ]
    },
    {
      "cell_type": "code",
      "metadata": {
        "colab": {
          "base_uri": "https://localhost:8080/"
        },
        "id": "0bn6WtHe8Uph",
        "outputId": "d94045d1-3ad5-4147-fcf3-71f267bbf916"
      },
      "source": [
        "data['diagnosis']=data['diagnosis'].map({'M':1,'B':0})\n",
        "data.shape"
      ],
      "execution_count": 6,
      "outputs": [
        {
          "output_type": "execute_result",
          "data": {
            "text/plain": [
              "(569, 33)"
            ]
          },
          "metadata": {},
          "execution_count": 6
        }
      ]
    },
    {
      "cell_type": "code",
      "metadata": {
        "colab": {
          "base_uri": "https://localhost:8080/",
          "height": 350
        },
        "id": "Yj7Pfmlu8WKV",
        "outputId": "75376d9c-cead-45bb-9236-bf10f396d787"
      },
      "source": [
        "sns.countplot(data['diagnosis'],label=\"Count\")"
      ],
      "execution_count": 7,
      "outputs": [
        {
          "output_type": "stream",
          "name": "stderr",
          "text": [
            "/usr/local/lib/python3.7/dist-packages/seaborn/_decorators.py:43: FutureWarning: Pass the following variable as a keyword arg: x. From version 0.12, the only valid positional argument will be `data`, and passing other arguments without an explicit keyword will result in an error or misinterpretation.\n",
            "  FutureWarning\n"
          ]
        },
        {
          "output_type": "execute_result",
          "data": {
            "text/plain": [
              "<matplotlib.axes._subplots.AxesSubplot at 0x7f45ba2fc190>"
            ]
          },
          "metadata": {},
          "execution_count": 7
        },
        {
          "output_type": "display_data",
          "data": {
            "image/png": "[encoded data removed]",
            "text/plain": [
              "<Figure size 432x288 with 1 Axes>"
            ]
          },
          "metadata": {
            "needs_background": "light"
          }
        }
      ]
    },
    {
      "cell_type": "code",
      "metadata": {
        "id": "C5DEnW1P8aRf"
      },
      "source": [
        "requiredData= list(data.columns[1:11])"
      ],
      "execution_count": 8,
      "outputs": []
    },
    {
      "cell_type": "code",
      "metadata": {
        "colab": {
          "base_uri": "https://localhost:8080/",
          "height": 711
        },
        "id": "x9O3T24j8oBv",
        "outputId": "47bd6e0e-30d3-4907-f1fe-ffb9c0707888"
      },
      "source": [
        "#Using the correlation matrix to find the features that affect the target value\n",
        "corr = data[requiredData].corr()\n",
        "plt.figure(figsize=(14,10))\n",
        "sns.heatmap(corr, cbar = True,  square = True, annot=True, fmt= '.2f',annot_kws={'size': 15},\n",
        "           xticklabels= requiredData, yticklabels= requiredData,\n",
        "           cmap= 'coolwarm')"
      ],
      "execution_count": 9,
      "outputs": [
        {
          "output_type": "execute_result",
          "data": {
            "text/plain": [
              "<matplotlib.axes._subplots.AxesSubplot at 0x7f4589dbf150>"
            ]
          },
          "metadata": {},
          "execution_count": 9
        },
        {
          "output_type": "display_data",
          "data": {
            "image/png": "[encoded data removed]",
            "text/plain": [
              "<Figure size 1008x720 with 2 Axes>"
            ]
          },
          "metadata": {
            "needs_background": "light"
          }
        }
      ]
    },
    {
      "cell_type": "code",
      "metadata": {
        "id": "QVx_BInG9GdF"
      },
      "source": [
        "# after analysing the matrix, only 5 parameters are highly correlated to diagnosis\n",
        "df = data[['texture_mean','perimeter_mean','smoothness_mean','compactness_mean','symmetry_mean','diagnosis']]\n",
        "df = df.dropna()"
      ],
      "execution_count": 10,
      "outputs": []
    },
    {
      "cell_type": "code",
      "metadata": {
        "colab": {
          "base_uri": "https://localhost:8080/"
        },
        "id": "ueajzGf49WkG",
        "outputId": "4e87cc6b-3ea7-45dc-fb67-6bd72d5f4608"
      },
      "source": [
        "df.isna().count()"
      ],
      "execution_count": 11,
      "outputs": [
        {
          "output_type": "execute_result",
          "data": {
            "text/plain": [
              "texture_mean        569\n",
              "perimeter_mean      569\n",
              "smoothness_mean     569\n",
              "compactness_mean    569\n",
              "symmetry_mean       569\n",
              "diagnosis           569\n",
              "dtype: int64"
            ]
          },
          "metadata": {},
          "execution_count": 11
        }
      ]
    },
    {
      "cell_type": "code",
      "metadata": {
        "colab": {
          "base_uri": "https://localhost:8080/"
        },
        "id": "RLMc5php96di",
        "outputId": "df63bc6b-0ac2-4fa3-b7b5-0eb444316159"
      },
      "source": [
        "features = df[['texture_mean','perimeter_mean','smoothness_mean','compactness_mean','symmetry_mean']]\n",
        "diagnosis = df[['diagnosis']]\n",
        "print(features.shape, diagnosis.shape)"
      ],
      "execution_count": 12,
      "outputs": [
        {
          "output_type": "stream",
          "name": "stdout",
          "text": [
            "(569, 5) (569, 1)\n"
          ]
        }
      ]
    },
    {
      "cell_type": "code",
      "metadata": {
        "colab": {
          "base_uri": "https://localhost:8080/"
        },
        "id": "5R1AKZehBNQe",
        "outputId": "65d5455f-298f-4eaa-e0eb-1d89df91d417"
      },
      "source": [
        "X_train, X_test, y_train, y_test = train_test_split(features, diagnosis, test_size=0.1)\n",
        "print(X_train.shape, X_test.shape, y_train.shape, y_test.shape)"
      ],
      "execution_count": 13,
      "outputs": [
        {
          "output_type": "stream",
          "name": "stdout",
          "text": [
            "(512, 5) (57, 5) (512, 1) (57, 1)\n"
          ]
        }
      ]
    },
    {
      "cell_type": "code",
      "metadata": {
        "colab": {
          "base_uri": "https://localhost:8080/",
          "height": 204
        },
        "id": "cwP0Csnu_Nk3",
        "outputId": "4c2de59c-109a-4f67-e2ac-cbd42eb5040c"
      },
      "source": [
        "features.head()"
      ],
      "execution_count": 14,
      "outputs": [
        {
          "output_type": "execute_result",
          "data": {
            "text/html": [
              "<div>\n",
              "<style scoped>\n",
              "    .dataframe tbody tr th:only-of-type {\n",
              "        vertical-align: middle;\n",
              "    }\n",
              "\n",
              "    .dataframe tbody tr th {\n",
              "        vertical-align: top;\n",
              "    }\n",
              "\n",
              "    .dataframe thead th {\n",
              "        text-align: right;\n",
              "    }\n",
              "</style>\n",
              "<table border=\"1\" class=\"dataframe\">\n",
              "  <thead>\n",
              "    <tr style=\"text-align: right;\">\n",
              "      <th></th>\n",
              "      <th>texture_mean</th>\n",
              "      <th>perimeter_mean</th>\n",
              "      <th>smoothness_mean</th>\n",
              "      <th>compactness_mean</th>\n",
              "      <th>symmetry_mean</th>\n",
              "    </tr>\n",
              "  </thead>\n",
              "  <tbody>\n",
              "    <tr>\n",
              "      <th>0</th>\n",
              "      <td>10.38</td>\n",
              "      <td>122.80</td>\n",
              "      <td>0.11840</td>\n",
              "      <td>0.27760</td>\n",
              "      <td>0.2419</td>\n",
              "    </tr>\n",
              "    <tr>\n",
              "      <th>1</th>\n",
              "      <td>17.77</td>\n",
              "      <td>132.90</td>\n",
              "      <td>0.08474</td>\n",
              "      <td>0.07864</td>\n",
              "      <td>0.1812</td>\n",
              "    </tr>\n",
              "    <tr>\n",
              "      <th>2</th>\n",
              "      <td>21.25</td>\n",
              "      <td>130.00</td>\n",
              "      <td>0.10960</td>\n",
              "      <td>0.15990</td>\n",
              "      <td>0.2069</td>\n",
              "    </tr>\n",
              "    <tr>\n",
              "      <th>3</th>\n",
              "      <td>20.38</td>\n",
              "      <td>77.58</td>\n",
              "      <td>0.14250</td>\n",
              "      <td>0.28390</td>\n",
              "      <td>0.2597</td>\n",
              "    </tr>\n",
              "    <tr>\n",
              "      <th>4</th>\n",
              "      <td>14.34</td>\n",
              "      <td>135.10</td>\n",
              "      <td>0.10030</td>\n",
              "      <td>0.13280</td>\n",
              "      <td>0.1809</td>\n",
              "    </tr>\n",
              "  </tbody>\n",
              "</table>\n",
              "</div>"
            ],
            "text/plain": [
              "   texture_mean  perimeter_mean  ...  compactness_mean  symmetry_mean\n",
              "0         10.38          122.80  ...           0.27760         0.2419\n",
              "1         17.77          132.90  ...           0.07864         0.1812\n",
              "2         21.25          130.00  ...           0.15990         0.2069\n",
              "3         20.38           77.58  ...           0.28390         0.2597\n",
              "4         14.34          135.10  ...           0.13280         0.1809\n",
              "\n",
              "[5 rows x 5 columns]"
            ]
          },
          "metadata": {},
          "execution_count": 14
        }
      ]
    },
    {
      "cell_type": "markdown",
      "metadata": {
        "id": "2Csh0-PXLbAH"
      },
      "source": [
        "XGBoost"
      ]
    },
    {
      "cell_type": "code",
      "metadata": {
        "colab": {
          "base_uri": "https://localhost:8080/"
        },
        "id": "SOF0XC7I_1sO",
        "outputId": "4800df81-f6b9-45be-cb96-ef6c6046709c"
      },
      "source": [
        "model = XGBClassifier(n_estimators=100)\n",
        "cv = RepeatedStratifiedKFold(n_splits=10, n_repeats=3, random_state=1)\n",
        "n_scores = cross_val_score(model, X_train, y_train, scoring='accuracy', cv=cv, n_jobs=-1, error_score='raise')\n",
        "model.fit(X_train, y_train)\n",
        "print('Accuracy: %.3f (%.3f)' % (mean(n_scores), std(n_scores)))"
      ],
      "execution_count": 15,
      "outputs": [
        {
          "output_type": "stream",
          "name": "stdout",
          "text": [
            "Accuracy: 0.934 (0.043)\n"
          ]
        },
        {
          "output_type": "stream",
          "name": "stderr",
          "text": [
            "/usr/local/lib/python3.7/dist-packages/sklearn/preprocessing/_label.py:98: DataConversionWarning: A column-vector y was passed when a 1d array was expected. Please change the shape of y to (n_samples, ), for example using ravel().\n",
            "  y = column_or_1d(y, warn=True)\n",
            "/usr/local/lib/python3.7/dist-packages/sklearn/preprocessing/_label.py:133: DataConversionWarning: A column-vector y was passed when a 1d array was expected. Please change the shape of y to (n_samples, ), for example using ravel().\n",
            "  y = column_or_1d(y, warn=True)\n"
          ]
        }
      ]
    },
    {
      "cell_type": "code",
      "metadata": {
        "colab": {
          "base_uri": "https://localhost:8080/"
        },
        "id": "AOipsN1UANFb",
        "outputId": "acead96b-4b3b-4ee1-da66-0bd706813670"
      },
      "source": [
        "testRow = X_test.iloc[1].to_numpy()\n",
        "testRow"
      ],
      "execution_count": 16,
      "outputs": [
        {
          "output_type": "execute_result",
          "data": {
            "text/plain": [
              "array([14.93   , 73.87   ,  0.1013 ,  0.07808,  0.1883 ])"
            ]
          },
          "metadata": {},
          "execution_count": 16
        }
      ]
    },
    {
      "cell_type": "code",
      "metadata": {
        "colab": {
          "base_uri": "https://localhost:8080/"
        },
        "id": "U3N4TORhCV65",
        "outputId": "90a02868-653d-4a54-952a-c8db32b73f4e"
      },
      "source": [
        "model.predict(X_test.head(1))"
      ],
      "execution_count": 17,
      "outputs": [
        {
          "output_type": "execute_result",
          "data": {
            "text/plain": [
              "array([1])"
            ]
          },
          "metadata": {},
          "execution_count": 17
        }
      ]
    },
    {
      "cell_type": "markdown",
      "metadata": {
        "id": "3-sMa1YhIkWw"
      },
      "source": [
        "CatBoost"
      ]
    },
    {
      "cell_type": "code",
      "metadata": {
        "colab": {
          "base_uri": "https://localhost:8080/"
        },
        "id": "fZ7l9FCIDxUQ",
        "outputId": "c0fd83e2-34aa-4384-f880-86876353e9b7"
      },
      "source": [
        "# evaluate the model\n",
        "catModel = CatBoostClassifier(verbose=0, n_estimators=100)\n",
        "cv = RepeatedStratifiedKFold(n_splits=10, n_repeats=3, random_state=1)\n",
        "catModel.fit(X_train, y_train)\n",
        "n_scores = cross_val_score(catModel, X_train, y_train, scoring='accuracy', cv=cv, n_jobs=-1, error_score='raise')\n",
        "print('Accuracy: %.3f (%.3f)' % (mean(n_scores), std(n_scores)))\n"
      ],
      "execution_count": 18,
      "outputs": [
        {
          "output_type": "stream",
          "name": "stdout",
          "text": [
            "Accuracy: 0.926 (0.041)\n"
          ]
        }
      ]
    },
    {
      "cell_type": "code",
      "metadata": {
        "colab": {
          "base_uri": "https://localhost:8080/"
        },
        "id": "9i4nmcb9Ts-s",
        "outputId": "7f8e14cd-796c-43b1-dd7e-08c88fc23a6f"
      },
      "source": [
        "test = [[14.44,74.65,0.09984,0.112,0.1818]]\n",
        "test"
      ],
      "execution_count": 19,
      "outputs": [
        {
          "output_type": "execute_result",
          "data": {
            "text/plain": [
              "[[14.44, 74.65, 0.09984, 0.112, 0.1818]]"
            ]
          },
          "metadata": {},
          "execution_count": 19
        }
      ]
    },
    {
      "cell_type": "code",
      "metadata": {
        "colab": {
          "base_uri": "https://localhost:8080/"
        },
        "id": "Fq8IQhlcSrby",
        "outputId": "42ba7154-d96f-4fb8-f8ca-fd43f00ab015"
      },
      "source": [
        "catModel.predict(X_test.head(1))"
      ],
      "execution_count": 20,
      "outputs": [
        {
          "output_type": "execute_result",
          "data": {
            "text/plain": [
              "array([1])"
            ]
          },
          "metadata": {},
          "execution_count": 20
        }
      ]
    },
    {
      "cell_type": "markdown",
      "metadata": {
        "id": "-TClfXc5JdLR"
      },
      "source": [
        "LightGBM"
      ]
    },
    {
      "cell_type": "code",
      "metadata": {
        "colab": {
          "base_uri": "https://localhost:8080/"
        },
        "id": "YUa3-Qu4I0m-",
        "outputId": "88f499c5-2ff8-4c71-80a8-d8804545eec0"
      },
      "source": [
        "LGBMModel = LGBMClassifier(n_estimators=100)\n",
        "cv = RepeatedStratifiedKFold(n_splits=10, n_repeats=3, random_state=1)\n",
        "LGBMModel.fit(X_train, y_train)\n",
        "n_scores = cross_val_score(LGBMModel, X_train, y_train, scoring='accuracy', cv=cv, n_jobs=-1, error_score='raise')\n",
        "print('Accuracy: %.3f (%.3f)' % (mean(n_scores), std(n_scores)))"
      ],
      "execution_count": 21,
      "outputs": [
        {
          "output_type": "stream",
          "name": "stderr",
          "text": [
            "/usr/local/lib/python3.7/dist-packages/sklearn/preprocessing/_label.py:98: DataConversionWarning: A column-vector y was passed when a 1d array was expected. Please change the shape of y to (n_samples, ), for example using ravel().\n",
            "  y = column_or_1d(y, warn=True)\n",
            "/usr/local/lib/python3.7/dist-packages/sklearn/preprocessing/_label.py:133: DataConversionWarning: A column-vector y was passed when a 1d array was expected. Please change the shape of y to (n_samples, ), for example using ravel().\n",
            "  y = column_or_1d(y, warn=True)\n"
          ]
        },
        {
          "output_type": "stream",
          "name": "stdout",
          "text": [
            "Accuracy: 0.928 (0.042)\n"
          ]
        }
      ]
    },
    {
      "cell_type": "code",
      "metadata": {
        "colab": {
          "base_uri": "https://localhost:8080/"
        },
        "id": "AnSPFABOV17c",
        "outputId": "f6afad62-f9ad-478b-d070-ba00adf1c396"
      },
      "source": [
        "LGBMModel.predict(X_test.head(1))"
      ],
      "execution_count": 22,
      "outputs": [
        {
          "output_type": "execute_result",
          "data": {
            "text/plain": [
              "array([1])"
            ]
          },
          "metadata": {},
          "execution_count": 22
        }
      ]
    },
    {
      "cell_type": "markdown",
      "metadata": {
        "id": "PDJvDE19SV-p"
      },
      "source": [
        "AdaBoost"
      ]
    },
    {
      "cell_type": "code",
      "metadata": {
        "colab": {
          "base_uri": "https://localhost:8080/"
        },
        "id": "dDvzwLPWLB2G",
        "outputId": "e25ceede-3445-4463-92a8-bbd6679c1698"
      },
      "source": [
        "ABmodel = AdaBoostClassifier()\n",
        "# evaluate the model\n",
        "cv = RepeatedStratifiedKFold(n_splits=10, n_repeats=3, random_state=1)\n",
        "ABmodel.fit(X_train, y_train)\n",
        "n_scores = cross_val_score(ABmodel, X_train, y_train, scoring='accuracy', cv=cv, n_jobs=-1, error_score='raise')\n",
        "# report performance\n",
        "print('Accuracy: %.3f (%.3f)' % (mean(n_scores), std(n_scores)))"
      ],
      "execution_count": 23,
      "outputs": [
        {
          "output_type": "stream",
          "name": "stderr",
          "text": [
            "/usr/local/lib/python3.7/dist-packages/sklearn/utils/validation.py:985: DataConversionWarning: A column-vector y was passed when a 1d array was expected. Please change the shape of y to (n_samples, ), for example using ravel().\n",
            "  y = column_or_1d(y, warn=True)\n"
          ]
        },
        {
          "output_type": "stream",
          "name": "stdout",
          "text": [
            "Accuracy: 0.928 (0.039)\n"
          ]
        }
      ]
    },
    {
      "cell_type": "code",
      "metadata": {
        "colab": {
          "base_uri": "https://localhost:8080/"
        },
        "id": "6iG1uS8KV1Gk",
        "outputId": "1d316e55-3ac9-4946-922d-804b3c15a16e"
      },
      "source": [
        "ABmodel.predict(X_test.head(1))"
      ],
      "execution_count": 24,
      "outputs": [
        {
          "output_type": "execute_result",
          "data": {
            "text/plain": [
              "array([1])"
            ]
          },
          "metadata": {},
          "execution_count": 24
        }
      ]
    },
    {
      "cell_type": "markdown",
      "metadata": {
        "id": "c7SIaNu4XlHR"
      },
      "source": [
        "Decision Tree"
      ]
    },
    {
      "cell_type": "code",
      "metadata": {
        "colab": {
          "base_uri": "https://localhost:8080/"
        },
        "id": "HAOjBaidXnTc",
        "outputId": "2225ee15-b276-417b-f9f7-3cceae15f7ab"
      },
      "source": [
        "DTModel = tree.DecisionTreeClassifier()\n",
        "DTModel.fit(X_train, y_train)"
      ],
      "execution_count": 25,
      "outputs": [
        {
          "output_type": "execute_result",
          "data": {
            "text/plain": [
              "DecisionTreeClassifier()"
            ]
          },
          "metadata": {},
          "execution_count": 25
        }
      ]
    },
    {
      "cell_type": "code",
      "metadata": {
        "colab": {
          "base_uri": "https://localhost:8080/"
        },
        "id": "G7FdiadlX9_B",
        "outputId": "8099be71-2676-49e7-f13b-25e2fd0187b5"
      },
      "source": [
        "DTModel.predict(X_test.head(1))"
      ],
      "execution_count": 26,
      "outputs": [
        {
          "output_type": "execute_result",
          "data": {
            "text/plain": [
              "array([1])"
            ]
          },
          "metadata": {},
          "execution_count": 26
        }
      ]
    },
    {
      "cell_type": "markdown",
      "metadata": {
        "id": "L9y8oIt-LWZJ"
      },
      "source": [
        "Regression"
      ]
    },
    {
      "cell_type": "code",
      "metadata": {
        "id": "YeKhIKCqkLr1"
      },
      "source": [
        ""
      ],
      "execution_count": null,
      "outputs": []
    },
    {
      "cell_type": "markdown",
      "metadata": {
        "id": "X2d8lGP4Lfo3"
      },
      "source": [
        "XGBoost"
      ]
    },
    {
      "cell_type": "code",
      "metadata": {
        "colab": {
          "base_uri": "https://localhost:8080/"
        },
        "id": "7Awztb39LYD9",
        "outputId": "5bc9ebef-0c07-41cf-8b87-8d57acfd7395"
      },
      "source": [
        "XGBmodel = XGBRegressor(objective='reg:squarederror')\n",
        "cv = RepeatedKFold(n_splits=10, n_repeats=3, random_state=1)\n",
        "XGBmodel.fit(X_train, y_train)\n",
        "n_scores = cross_val_score(XGBmodel, X_train, y_train, scoring='neg_mean_absolute_error', cv=cv, n_jobs=-1, error_score='raise')\n",
        "print('MAE: %.3f (%.3f)' % (mean(n_scores), std(n_scores)))\n"
      ],
      "execution_count": 27,
      "outputs": [
        {
          "output_type": "stream",
          "name": "stdout",
          "text": [
            "MAE: -0.135 (0.023)\n"
          ]
        }
      ]
    },
    {
      "cell_type": "code",
      "metadata": {
        "colab": {
          "base_uri": "https://localhost:8080/"
        },
        "id": "IgEf8gocRpnd",
        "outputId": "c821f77d-caac-40f3-e406-12f36975add7"
      },
      "source": [
        "XGBmodel.predict(X_test.head(1))"
      ],
      "execution_count": 28,
      "outputs": [
        {
          "output_type": "execute_result",
          "data": {
            "text/plain": [
              "array([0.9391012], dtype=float32)"
            ]
          },
          "metadata": {},
          "execution_count": 28
        }
      ]
    },
    {
      "cell_type": "markdown",
      "metadata": {
        "id": "gzw2_xK5LkuQ"
      },
      "source": [
        "CatBoost"
      ]
    },
    {
      "cell_type": "code",
      "metadata": {
        "colab": {
          "base_uri": "https://localhost:8080/"
        },
        "id": "nVB6WdhhLj5_",
        "outputId": "169efc5d-07da-43a0-dc30-3ad22cd57f1e"
      },
      "source": [
        "catRModel = CatBoostRegressor(verbose=0, n_estimators=100)\n",
        "cv = RepeatedKFold(n_splits=10, n_repeats=3, random_state=1)\n",
        "catRModel.fit(X_train, y_train)\n",
        "n_scores = cross_val_score(catRModel, X_train, y_train, scoring='neg_mean_absolute_error', cv=cv, n_jobs=-1, error_score='raise')\n",
        "print('MAE: %.3f (%.3f)' % (mean(n_scores), std(n_scores)))\n"
      ],
      "execution_count": 29,
      "outputs": [
        {
          "output_type": "stream",
          "name": "stdout",
          "text": [
            "MAE: -0.136 (0.024)\n"
          ]
        }
      ]
    },
    {
      "cell_type": "markdown",
      "metadata": {
        "id": "I_3mAET8Li5X"
      },
      "source": [
        "LightGBM"
      ]
    },
    {
      "cell_type": "code",
      "metadata": {
        "colab": {
          "base_uri": "https://localhost:8080/"
        },
        "id": "xLxFHYj6LjRk",
        "outputId": "c679c4af-bf7d-4fe8-e77d-ccab6738e024"
      },
      "source": [
        "model = LGBMRegressor()\n",
        "cv = RepeatedKFold(n_splits=10, n_repeats=3, random_state=1)\n",
        "n_scores = cross_val_score(model, X_train, y_train, scoring='neg_mean_absolute_error', cv=cv, n_jobs=-1, error_score='raise')\n",
        "model.fit(X_train, y_train)\n",
        "print('MAE: %.3f (%.3f)' % (mean(n_scores), std(n_scores)))\n"
      ],
      "execution_count": 30,
      "outputs": [
        {
          "output_type": "stream",
          "name": "stdout",
          "text": [
            "MAE: -0.139 (0.025)\n"
          ]
        }
      ]
    },
    {
      "cell_type": "code",
      "metadata": {
        "id": "HTM1XmZhMlrK"
      },
      "source": [
        ""
      ],
      "execution_count": 30,
      "outputs": []
    },
    {
      "cell_type": "code",
      "metadata": {
        "id": "33h4pebyk9lb"
      },
      "source": [
        ""
      ],
      "execution_count": null,
      "outputs": []
    },
    {
      "cell_type": "markdown",
      "metadata": {
        "id": "lpPlvqlHk-Pu"
      },
      "source": [
        "Ranking"
      ]
    },
    {
      "cell_type": "markdown",
      "metadata": {
        "id": "IiVqcnvHmDB6"
      },
      "source": [
        "LightGBM"
      ]
    },
    {
      "cell_type": "code",
      "metadata": {
        "id": "xK5cBL1yk_Rr"
      },
      "source": [
        "gbm = lgb.LGBMRanker()"
      ],
      "execution_count": 32,
      "outputs": []
    },
    {
      "cell_type": "code",
      "metadata": {
        "id": "eXf3VKIjmFmv"
      },
      "source": [
        "X_train, X_val, y_train, y_val = train_test_split(X_train, y_train, test_size=0.2, random_state=1)"
      ],
      "execution_count": 33,
      "outputs": []
    },
    {
      "cell_type": "code",
      "metadata": {
        "colab": {
          "base_uri": "https://localhost:8080/"
        },
        "id": "sSDbStQUmRQ5",
        "outputId": "d43e009b-068a-4310-8872-4f097d512f34"
      },
      "source": [
        "query_train = [X_train.shape[0]]\n",
        "query_val = [X_val.shape[0]]\n",
        "query_test = [X_test.shape[0]]\n",
        "print(query_train, query_val, query_test)"
      ],
      "execution_count": 35,
      "outputs": [
        {
          "output_type": "stream",
          "name": "stdout",
          "text": [
            "[409] [103] [57]\n"
          ]
        }
      ]
    },
    {
      "cell_type": "code",
      "metadata": {
        "colab": {
          "base_uri": "https://localhost:8080/"
        },
        "id": "NYUV-kThmWC6",
        "outputId": "5645f9e0-af82-4108-84f0-203a75ce5590"
      },
      "source": [
        "gbm.fit(X_train, y_train, group=query_train,\n",
        "        eval_set=[(X_val, y_val)], eval_group=[query_val],\n",
        "        eval_at=[5, 10, 20], early_stopping_rounds=50)"
      ],
      "execution_count": 36,
      "outputs": [
        {
          "output_type": "stream",
          "name": "stdout",
          "text": [
            "[1]\tvalid_0's ndcg@5: 1\tvalid_0's ndcg@10: 1\tvalid_0's ndcg@20: 1\n",
            "Training until validation scores don't improve for 50 rounds.\n",
            "[2]\tvalid_0's ndcg@5: 1\tvalid_0's ndcg@10: 1\tvalid_0's ndcg@20: 1\n",
            "[3]\tvalid_0's ndcg@5: 1\tvalid_0's ndcg@10: 1\tvalid_0's ndcg@20: 1\n",
            "[4]\tvalid_0's ndcg@5: 1\tvalid_0's ndcg@10: 1\tvalid_0's ndcg@20: 1\n",
            "[5]\tvalid_0's ndcg@5: 1\tvalid_0's ndcg@10: 1\tvalid_0's ndcg@20: 1\n",
            "[6]\tvalid_0's ndcg@5: 1\tvalid_0's ndcg@10: 1\tvalid_0's ndcg@20: 1\n",
            "[7]\tvalid_0's ndcg@5: 1\tvalid_0's ndcg@10: 1\tvalid_0's ndcg@20: 1\n",
            "[8]\tvalid_0's ndcg@5: 1\tvalid_0's ndcg@10: 1\tvalid_0's ndcg@20: 1\n",
            "[9]\tvalid_0's ndcg@5: 1\tvalid_0's ndcg@10: 1\tvalid_0's ndcg@20: 1\n",
            "[10]\tvalid_0's ndcg@5: 1\tvalid_0's ndcg@10: 1\tvalid_0's ndcg@20: 1\n",
            "[11]\tvalid_0's ndcg@5: 1\tvalid_0's ndcg@10: 1\tvalid_0's ndcg@20: 1\n",
            "[12]\tvalid_0's ndcg@5: 1\tvalid_0's ndcg@10: 1\tvalid_0's ndcg@20: 1\n",
            "[13]\tvalid_0's ndcg@5: 1\tvalid_0's ndcg@10: 1\tvalid_0's ndcg@20: 1\n",
            "[14]\tvalid_0's ndcg@5: 1\tvalid_0's ndcg@10: 1\tvalid_0's ndcg@20: 1\n",
            "[15]\tvalid_0's ndcg@5: 1\tvalid_0's ndcg@10: 1\tvalid_0's ndcg@20: 1\n",
            "[16]\tvalid_0's ndcg@5: 1\tvalid_0's ndcg@10: 1\tvalid_0's ndcg@20: 1\n",
            "[17]\tvalid_0's ndcg@5: 1\tvalid_0's ndcg@10: 1\tvalid_0's ndcg@20: 1\n",
            "[18]\tvalid_0's ndcg@5: 1\tvalid_0's ndcg@10: 1\tvalid_0's ndcg@20: 1\n",
            "[19]\tvalid_0's ndcg@5: 1\tvalid_0's ndcg@10: 1\tvalid_0's ndcg@20: 1\n",
            "[20]\tvalid_0's ndcg@5: 1\tvalid_0's ndcg@10: 1\tvalid_0's ndcg@20: 1\n",
            "[21]\tvalid_0's ndcg@5: 1\tvalid_0's ndcg@10: 1\tvalid_0's ndcg@20: 1\n",
            "[22]\tvalid_0's ndcg@5: 1\tvalid_0's ndcg@10: 1\tvalid_0's ndcg@20: 1\n",
            "[23]\tvalid_0's ndcg@5: 1\tvalid_0's ndcg@10: 1\tvalid_0's ndcg@20: 1\n",
            "[24]\tvalid_0's ndcg@5: 1\tvalid_0's ndcg@10: 1\tvalid_0's ndcg@20: 1\n",
            "[25]\tvalid_0's ndcg@5: 1\tvalid_0's ndcg@10: 1\tvalid_0's ndcg@20: 1\n",
            "[26]\tvalid_0's ndcg@5: 1\tvalid_0's ndcg@10: 1\tvalid_0's ndcg@20: 1\n",
            "[27]\tvalid_0's ndcg@5: 1\tvalid_0's ndcg@10: 1\tvalid_0's ndcg@20: 1\n",
            "[28]\tvalid_0's ndcg@5: 1\tvalid_0's ndcg@10: 1\tvalid_0's ndcg@20: 1\n",
            "[29]\tvalid_0's ndcg@5: 1\tvalid_0's ndcg@10: 1\tvalid_0's ndcg@20: 1\n",
            "[30]\tvalid_0's ndcg@5: 1\tvalid_0's ndcg@10: 1\tvalid_0's ndcg@20: 1\n",
            "[31]\tvalid_0's ndcg@5: 1\tvalid_0's ndcg@10: 1\tvalid_0's ndcg@20: 1\n",
            "[32]\tvalid_0's ndcg@5: 1\tvalid_0's ndcg@10: 1\tvalid_0's ndcg@20: 1\n",
            "[33]\tvalid_0's ndcg@5: 1\tvalid_0's ndcg@10: 1\tvalid_0's ndcg@20: 1\n",
            "[34]\tvalid_0's ndcg@5: 1\tvalid_0's ndcg@10: 1\tvalid_0's ndcg@20: 1\n",
            "[35]\tvalid_0's ndcg@5: 1\tvalid_0's ndcg@10: 1\tvalid_0's ndcg@20: 1\n",
            "[36]\tvalid_0's ndcg@5: 1\tvalid_0's ndcg@10: 1\tvalid_0's ndcg@20: 1\n",
            "[37]\tvalid_0's ndcg@5: 1\tvalid_0's ndcg@10: 1\tvalid_0's ndcg@20: 1\n",
            "[38]\tvalid_0's ndcg@5: 1\tvalid_0's ndcg@10: 1\tvalid_0's ndcg@20: 1\n",
            "[39]\tvalid_0's ndcg@5: 1\tvalid_0's ndcg@10: 1\tvalid_0's ndcg@20: 1\n",
            "[40]\tvalid_0's ndcg@5: 1\tvalid_0's ndcg@10: 1\tvalid_0's ndcg@20: 1\n",
            "[41]\tvalid_0's ndcg@5: 1\tvalid_0's ndcg@10: 1\tvalid_0's ndcg@20: 1\n",
            "[42]\tvalid_0's ndcg@5: 1\tvalid_0's ndcg@10: 1\tvalid_0's ndcg@20: 1\n",
            "[43]\tvalid_0's ndcg@5: 1\tvalid_0's ndcg@10: 1\tvalid_0's ndcg@20: 1\n",
            "[44]\tvalid_0's ndcg@5: 1\tvalid_0's ndcg@10: 1\tvalid_0's ndcg@20: 1\n",
            "[45]\tvalid_0's ndcg@5: 1\tvalid_0's ndcg@10: 1\tvalid_0's ndcg@20: 1\n",
            "[46]\tvalid_0's ndcg@5: 1\tvalid_0's ndcg@10: 1\tvalid_0's ndcg@20: 1\n",
            "[47]\tvalid_0's ndcg@5: 1\tvalid_0's ndcg@10: 1\tvalid_0's ndcg@20: 1\n",
            "[48]\tvalid_0's ndcg@5: 1\tvalid_0's ndcg@10: 1\tvalid_0's ndcg@20: 1\n",
            "[49]\tvalid_0's ndcg@5: 1\tvalid_0's ndcg@10: 1\tvalid_0's ndcg@20: 1\n",
            "[50]\tvalid_0's ndcg@5: 1\tvalid_0's ndcg@10: 1\tvalid_0's ndcg@20: 1\n",
            "[51]\tvalid_0's ndcg@5: 1\tvalid_0's ndcg@10: 1\tvalid_0's ndcg@20: 1\n",
            "Early stopping, best iteration is:\n",
            "[1]\tvalid_0's ndcg@5: 1\tvalid_0's ndcg@10: 1\tvalid_0's ndcg@20: 1\n"
          ]
        },
        {
          "output_type": "execute_result",
          "data": {
            "text/plain": [
              "LGBMRanker()"
            ]
          },
          "metadata": {},
          "execution_count": 36
        }
      ]
    },
    {
      "cell_type": "code",
      "metadata": {
        "colab": {
          "base_uri": "https://localhost:8080/"
        },
        "id": "tXKvViqXmeQf",
        "outputId": "604b0477-1ad2-4ed5-ceb9-aa1664427f93"
      },
      "source": [
        "test_pred = gbm.predict(X_test)\n",
        "test_pred"
      ],
      "execution_count": 38,
      "outputs": [
        {
          "output_type": "execute_result",
          "data": {
            "text/plain": [
              "array([ 0.05      , -0.05      ,  0.00093253, -0.05      , -0.05      ,\n",
              "       -0.05      ,  0.02136856,  0.00093253,  0.05      ,  0.05      ,\n",
              "        0.00093253,  0.0471285 ,  0.02136856, -0.0420813 ,  0.0257262 ,\n",
              "        0.03877201,  0.0471285 , -0.05      , -0.05      ,  0.05      ,\n",
              "       -0.05      ,  0.02136856,  0.05      , -0.04366165, -0.04101504,\n",
              "       -0.05      , -0.04366165, -0.04101504, -0.05      , -0.04366165,\n",
              "       -0.0420813 ,  0.00093253, -0.05      , -0.05      ,  0.03877201,\n",
              "       -0.05      , -0.05      ,  0.00093253,  0.0471285 , -0.04101504,\n",
              "       -0.05      ,  0.05      , -0.04101504, -0.04101504,  0.05      ,\n",
              "       -0.05      , -0.05      , -0.04101504, -0.05      ,  0.05      ,\n",
              "        0.05      , -0.05      ,  0.05      , -0.04366165,  0.0257262 ,\n",
              "        0.05      ,  0.00093253])"
            ]
          },
          "metadata": {},
          "execution_count": 38
        }
      ]
    },
    {
      "cell_type": "code",
      "metadata": {
        "colab": {
          "base_uri": "https://localhost:8080/",
          "height": 204
        },
        "id": "7d_gg0R6oH_w",
        "outputId": "e82f03d4-648d-4a06-f4e9-fc01a5eb800c"
      },
      "source": [
        "X_test[\"predicted_ranking\"] = test_pred\n",
        "X_test.sort_values(\"predicted_ranking\", ascending=False)\n",
        "X_test.head()"
      ],
      "execution_count": 40,
      "outputs": [
        {
          "output_type": "execute_result",
          "data": {
            "text/html": [
              "<div>\n",
              "<style scoped>\n",
              "    .dataframe tbody tr th:only-of-type {\n",
              "        vertical-align: middle;\n",
              "    }\n",
              "\n",
              "    .dataframe tbody tr th {\n",
              "        vertical-align: top;\n",
              "    }\n",
              "\n",
              "    .dataframe thead th {\n",
              "        text-align: right;\n",
              "    }\n",
              "</style>\n",
              "<table border=\"1\" class=\"dataframe\">\n",
              "  <thead>\n",
              "    <tr style=\"text-align: right;\">\n",
              "      <th></th>\n",
              "      <th>texture_mean</th>\n",
              "      <th>perimeter_mean</th>\n",
              "      <th>smoothness_mean</th>\n",
              "      <th>compactness_mean</th>\n",
              "      <th>symmetry_mean</th>\n",
              "      <th>predicted_ranking</th>\n",
              "    </tr>\n",
              "  </thead>\n",
              "  <tbody>\n",
              "    <tr>\n",
              "      <th>65</th>\n",
              "      <td>23.94</td>\n",
              "      <td>97.40</td>\n",
              "      <td>0.11720</td>\n",
              "      <td>0.14790</td>\n",
              "      <td>0.1953</td>\n",
              "      <td>0.050000</td>\n",
              "    </tr>\n",
              "    <tr>\n",
              "      <th>249</th>\n",
              "      <td>14.93</td>\n",
              "      <td>73.87</td>\n",
              "      <td>0.10130</td>\n",
              "      <td>0.07808</td>\n",
              "      <td>0.1883</td>\n",
              "      <td>-0.050000</td>\n",
              "    </tr>\n",
              "    <tr>\n",
              "      <th>415</th>\n",
              "      <td>21.17</td>\n",
              "      <td>76.39</td>\n",
              "      <td>0.09773</td>\n",
              "      <td>0.08120</td>\n",
              "      <td>0.2019</td>\n",
              "      <td>0.000933</td>\n",
              "    </tr>\n",
              "    <tr>\n",
              "      <th>154</th>\n",
              "      <td>15.34</td>\n",
              "      <td>85.31</td>\n",
              "      <td>0.09384</td>\n",
              "      <td>0.08498</td>\n",
              "      <td>0.1822</td>\n",
              "      <td>-0.050000</td>\n",
              "    </tr>\n",
              "    <tr>\n",
              "      <th>381</th>\n",
              "      <td>14.93</td>\n",
              "      <td>70.67</td>\n",
              "      <td>0.07987</td>\n",
              "      <td>0.07079</td>\n",
              "      <td>0.2003</td>\n",
              "      <td>-0.050000</td>\n",
              "    </tr>\n",
              "  </tbody>\n",
              "</table>\n",
              "</div>"
            ],
            "text/plain": [
              "     texture_mean  perimeter_mean  ...  symmetry_mean  predicted_ranking\n",
              "65          23.94           97.40  ...         0.1953           0.050000\n",
              "249         14.93           73.87  ...         0.1883          -0.050000\n",
              "415         21.17           76.39  ...         0.2019           0.000933\n",
              "154         15.34           85.31  ...         0.1822          -0.050000\n",
              "381         14.93           70.67  ...         0.2003          -0.050000\n",
              "\n",
              "[5 rows x 6 columns]"
            ]
          },
          "metadata": {},
          "execution_count": 40
        }
      ]
    },
    {
      "cell_type": "code",
      "metadata": {
        "id": "Q7LAWGeuoPIX"
      },
      "source": [
        ""
      ],
      "execution_count": null,
      "outputs": []
    }
  ]
}